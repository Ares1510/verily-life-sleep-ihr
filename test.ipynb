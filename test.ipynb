{
 "cells": [
  {
   "cell_type": "code",
   "execution_count": 322,
   "metadata": {},
   "outputs": [],
   "source": [
    "import os\n",
    "import random\n",
    "import pandas as pd\n",
    "import numpy as np\n",
    "from concurrent.futures import ProcessPoolExecutor"
   ]
  },
  {
   "cell_type": "code",
   "execution_count": 327,
   "metadata": {},
   "outputs": [],
   "source": [
    "def process_subject(sub_id):\n",
    "    df = pd.read_csv(f'annotations-rpoints/mesa-sleep-{sub_id}-rpoint.csv')\n",
    "    if not np.all(np.isin(df['stage'].values, [0, 1, 2, 3, 4, 5])):\n",
    "        print(f'Invalid labels for subject {sub_id}')\n",
    "        return\n",
    "    # convert stage 4 to stage 3\n",
    "    df['stage'] = df['stage'].map({0: 0, 1: 1, 2: 2, 3: 3, 4: 3, 5: 4})\n",
    "    df = df[['seconds', 'stage']] \n",
    "    df['IBI'] = df['seconds'].diff()\n",
    "    df['IBI'] = df['IBI'].fillna(method='bfill')\n",
    "    # Remove IBI values > 5 standard deviations from the mean\n",
    "    df = df[np.abs(df['IBI'] - df['IBI'].mean()) <= (5 * df['IBI'].std())]\n",
    "    df['IHR'] = 60 / df['IBI']\n",
    "    # Normalize IHR by subtracting mean and dividing by standard deviation\n",
    "    df['IHR'] = (df['IHR'] - df['IHR'].mean()) / df['IHR'].std()\n",
    "    df['seconds'] = pd.to_datetime(df['seconds'], unit='s')\n",
    "    # resample to 2Hz preserve the labels as integers\n",
    "    df = df.resample('500L', on='seconds').mean()\n",
    "    # interpolate missing values using linear interpolation\n",
    "    df = df.interpolate(method='linear')\n",
    "    # create a new column for labels\n",
    "    df = df[['IHR', 'stage']]\n",
    "    # check is there is a df folder in the current directory\n",
    "    if not os.path.exists('data'):\n",
    "        os.mkdir('data')\n",
    "    df.to_csv(f'data/{sub_id}_processed.csv', index=False)"
   ]
  },
  {
   "cell_type": "code",
   "execution_count": 328,
   "metadata": {},
   "outputs": [
    {
     "name": "stderr",
     "output_type": "stream",
     "text": [
      "C:\\Users\\osama\\AppData\\Local\\Temp\\ipykernel_29892\\1221861185.py:18: FutureWarning: pad is deprecated and will be removed in a future version. Use ffill instead.\n",
      "  df = df.resample('500L', on='seconds').pad()\n"
     ]
    },
    {
     "ename": "ValueError",
     "evalue": "Upsampling from level= or on= selection is not supported, use .set_index(...) to explicitly set index to datetime-like",
     "output_type": "error",
     "traceback": [
      "\u001b[1;31m---------------------------------------------------------------------------\u001b[0m",
      "\u001b[1;31mValueError\u001b[0m                                Traceback (most recent call last)",
      "Cell \u001b[1;32mIn[328], line 1\u001b[0m\n\u001b[1;32m----> 1\u001b[0m process_subject(\u001b[39m'\u001b[39m\u001b[39m0001\u001b[39m\u001b[39m'\u001b[39m)\n",
      "Cell \u001b[1;32mIn[327], line 18\u001b[0m, in \u001b[0;36mprocess_subject\u001b[1;34m(sub_id)\u001b[0m\n\u001b[0;32m     16\u001b[0m df[\u001b[39m'\u001b[39m\u001b[39mseconds\u001b[39m\u001b[39m'\u001b[39m] \u001b[39m=\u001b[39m pd\u001b[39m.\u001b[39mto_datetime(df[\u001b[39m'\u001b[39m\u001b[39mseconds\u001b[39m\u001b[39m'\u001b[39m], unit\u001b[39m=\u001b[39m\u001b[39m'\u001b[39m\u001b[39ms\u001b[39m\u001b[39m'\u001b[39m)\n\u001b[0;32m     17\u001b[0m \u001b[39m# resample to 2Hz\u001b[39;00m\n\u001b[1;32m---> 18\u001b[0m df \u001b[39m=\u001b[39m df\u001b[39m.\u001b[39mresample(\u001b[39m'\u001b[39m\u001b[39m500L\u001b[39m\u001b[39m'\u001b[39m, on\u001b[39m=\u001b[39m\u001b[39m'\u001b[39m\u001b[39mseconds\u001b[39m\u001b[39m'\u001b[39m)\u001b[39m.\u001b[39mpad()\n\u001b[0;32m     19\u001b[0m \u001b[39m# interpolate missing values using linear interpolation\u001b[39;00m\n\u001b[0;32m     20\u001b[0m df \u001b[39m=\u001b[39m df\u001b[39m.\u001b[39minterpolate(method\u001b[39m=\u001b[39m\u001b[39m'\u001b[39m\u001b[39mlinear\u001b[39m\u001b[39m'\u001b[39m)\n",
      "File \u001b[1;32mc:\\Users\\osama\\miniconda3\\envs\\pytorch\\Lib\\site-packages\\pandas\\core\\resample.py:569\u001b[0m, in \u001b[0;36mResampler.pad\u001b[1;34m(self, limit)\u001b[0m\n\u001b[0;32m    548\u001b[0m \u001b[39m\u001b[39m\u001b[39m\"\"\"\u001b[39;00m\n\u001b[0;32m    549\u001b[0m \u001b[39mForward fill the values.\u001b[39;00m\n\u001b[0;32m    550\u001b[0m \n\u001b[1;32m   (...)\u001b[0m\n\u001b[0;32m    561\u001b[0m \u001b[39mAn upsampled Series.\u001b[39;00m\n\u001b[0;32m    562\u001b[0m \u001b[39m\"\"\"\u001b[39;00m\n\u001b[0;32m    563\u001b[0m warnings\u001b[39m.\u001b[39mwarn(\n\u001b[0;32m    564\u001b[0m     \u001b[39m\"\u001b[39m\u001b[39mpad is deprecated and will be removed in a future version. \u001b[39m\u001b[39m\"\u001b[39m\n\u001b[0;32m    565\u001b[0m     \u001b[39m\"\u001b[39m\u001b[39mUse ffill instead.\u001b[39m\u001b[39m\"\u001b[39m,\n\u001b[0;32m    566\u001b[0m     \u001b[39mFutureWarning\u001b[39;00m,\n\u001b[0;32m    567\u001b[0m     stacklevel\u001b[39m=\u001b[39mfind_stack_level(),\n\u001b[0;32m    568\u001b[0m )\n\u001b[1;32m--> 569\u001b[0m \u001b[39mreturn\u001b[39;00m \u001b[39mself\u001b[39m\u001b[39m.\u001b[39mffill(limit\u001b[39m=\u001b[39mlimit)\n",
      "File \u001b[1;32mc:\\Users\\osama\\miniconda3\\envs\\pytorch\\Lib\\site-packages\\pandas\\core\\resample.py:545\u001b[0m, in \u001b[0;36mResampler.ffill\u001b[1;34m(self, limit)\u001b[0m\n\u001b[0;32m    527\u001b[0m \u001b[39mdef\u001b[39;00m \u001b[39mffill\u001b[39m(\u001b[39mself\u001b[39m, limit\u001b[39m=\u001b[39m\u001b[39mNone\u001b[39;00m):\n\u001b[0;32m    528\u001b[0m \u001b[39m    \u001b[39m\u001b[39m\"\"\"\u001b[39;00m\n\u001b[0;32m    529\u001b[0m \u001b[39m    Forward fill the values.\u001b[39;00m\n\u001b[0;32m    530\u001b[0m \n\u001b[1;32m   (...)\u001b[0m\n\u001b[0;32m    543\u001b[0m \u001b[39m    DataFrame.fillna: Fill NA/NaN values using the specified method.\u001b[39;00m\n\u001b[0;32m    544\u001b[0m \u001b[39m    \"\"\"\u001b[39;00m\n\u001b[1;32m--> 545\u001b[0m     \u001b[39mreturn\u001b[39;00m \u001b[39mself\u001b[39m\u001b[39m.\u001b[39m_upsample(\u001b[39m\"\u001b[39m\u001b[39mffill\u001b[39m\u001b[39m\"\u001b[39m, limit\u001b[39m=\u001b[39mlimit)\n",
      "File \u001b[1;32mc:\\Users\\osama\\miniconda3\\envs\\pytorch\\Lib\\site-packages\\pandas\\core\\resample.py:1345\u001b[0m, in \u001b[0;36mDatetimeIndexResampler._upsample\u001b[1;34m(self, method, limit, fill_value)\u001b[0m\n\u001b[0;32m   1343\u001b[0m     \u001b[39mraise\u001b[39;00m \u001b[39mAssertionError\u001b[39;00m(\u001b[39m\"\u001b[39m\u001b[39maxis must be 0\u001b[39m\u001b[39m\"\u001b[39m)\n\u001b[0;32m   1344\u001b[0m \u001b[39mif\u001b[39;00m \u001b[39mself\u001b[39m\u001b[39m.\u001b[39m_from_selection:\n\u001b[1;32m-> 1345\u001b[0m     \u001b[39mraise\u001b[39;00m \u001b[39mValueError\u001b[39;00m(\n\u001b[0;32m   1346\u001b[0m         \u001b[39m\"\u001b[39m\u001b[39mUpsampling from level= or on= selection \u001b[39m\u001b[39m\"\u001b[39m\n\u001b[0;32m   1347\u001b[0m         \u001b[39m\"\u001b[39m\u001b[39mis not supported, use .set_index(...) \u001b[39m\u001b[39m\"\u001b[39m\n\u001b[0;32m   1348\u001b[0m         \u001b[39m\"\u001b[39m\u001b[39mto explicitly set index to datetime-like\u001b[39m\u001b[39m\"\u001b[39m\n\u001b[0;32m   1349\u001b[0m     )\n\u001b[0;32m   1351\u001b[0m ax \u001b[39m=\u001b[39m \u001b[39mself\u001b[39m\u001b[39m.\u001b[39max\n\u001b[0;32m   1352\u001b[0m obj \u001b[39m=\u001b[39m \u001b[39mself\u001b[39m\u001b[39m.\u001b[39m_selected_obj\n",
      "\u001b[1;31mValueError\u001b[0m: Upsampling from level= or on= selection is not supported, use .set_index(...) to explicitly set index to datetime-like"
     ]
    }
   ],
   "source": [
    "process_subject('0001')"
   ]
  },
  {
   "cell_type": "code",
   "execution_count": null,
   "metadata": {},
   "outputs": [],
   "source": []
  }
 ],
 "metadata": {
  "kernelspec": {
   "display_name": "pytorch",
   "language": "python",
   "name": "python3"
  },
  "language_info": {
   "codemirror_mode": {
    "name": "ipython",
    "version": 3
   },
   "file_extension": ".py",
   "mimetype": "text/x-python",
   "name": "python",
   "nbconvert_exporter": "python",
   "pygments_lexer": "ipython3",
   "version": "3.11.3"
  },
  "orig_nbformat": 4
 },
 "nbformat": 4,
 "nbformat_minor": 2
}
