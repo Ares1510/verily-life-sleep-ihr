{
 "cells": [
  {
   "cell_type": "code",
   "execution_count": 1,
   "metadata": {},
   "outputs": [],
   "source": [
    "import os\n",
    "import time\n",
    "import torch\n",
    "import numpy as np\n",
    "import pytorch_lightning as pl\n",
    "from pytorch_lightning import Trainer\n",
    "from pytorch_lightning.callbacks import ModelCheckpoint, EarlyStopping\n",
    "from pytorch_lightning.loggers import WandbLogger\n",
    "from utils.data import SleepDataLoader\n",
    "from models import HeartRateNetwork"
   ]
  },
  {
   "cell_type": "code",
   "execution_count": null,
   "metadata": {},
   "outputs": [],
   "source": [
    "%load_ext autoreload\n",
    "%autoreload 2"
   ]
  },
  {
   "cell_type": "code",
   "execution_count": 2,
   "metadata": {},
   "outputs": [],
   "source": [
    "sub_ids = [x.split('_')[0] for x in os.listdir('data')]\n",
    "data_loader = SleepDataLoader(sub_ids)\n",
    "train_loader = data_loader.train(batch_size=1200)\n",
    "val_loader = data_loader.val(batch_size=1200)\n",
    "test_loader = data_loader.test(batch_size=1200)"
   ]
  },
  {
   "cell_type": "code",
   "execution_count": 49,
   "metadata": {},
   "outputs": [
    {
     "name": "stdout",
     "output_type": "stream",
     "text": [
      "torch.Size([1200, 256])\n",
      "torch.Size([1101])\n",
      "torch.Size([1101, 256])\n"
     ]
    }
   ],
   "source": [
    "for x, y in train_loader:\n",
    "    print(x.shape)\n",
    "    mask = torch.any(x != 0, dim=1).nonzero().squeeze()\n",
    "    print(mask.shape)\n",
    "    print(torch.index_select(x, 0, mask).shape)\n",
    "    break"
   ]
  },
  {
   "cell_type": "code",
   "execution_count": null,
   "metadata": {},
   "outputs": [],
   "source": []
  },
  {
   "cell_type": "code",
   "execution_count": null,
   "metadata": {},
   "outputs": [],
   "source": [
    "callbacks = [EarlyStopping(monitor='val_BinaryF1Score', patience=3, mode='max', verbose=True),\n",
    "             ModelCheckpoint(monitor='val_BinaryF1Score', mode='max')]\n",
    "\n",
    "run_name = 'MESA_' + time.strftime(\"%Y%m%d-%H%M%S\")\n",
    "model = HeartRateNetwork(lr=0.0001, weight_decay=0.25)"
   ]
  },
  {
   "cell_type": "code",
   "execution_count": null,
   "metadata": {},
   "outputs": [],
   "source": [
    "logger = WandbLogger(project='sleep-ihr', name=run_name, log_model='all')\n",
    "# logger.experiment.config.update(args)\n",
    "\n",
    "trainer = Trainer(accelerator='gpu', devices=1, max_epochs=1, logger=logger, callbacks=callbacks)\n",
    "trainer.fit(model, train_loader, val_loader)"
   ]
  },
  {
   "cell_type": "code",
   "execution_count": 25,
   "metadata": {},
   "outputs": [],
   "source": [
    "import numpy as np\n",
    "\n",
    "# Assuming you have the arrays `data` and `labels`\n",
    "data = np.array([[1, 2, 3], [0, 0, 0], [4, 5, 6]])\n",
    "labels = np.array([0, 1, 0])\n",
    "\n",
    "mask = np.any(data == 0, axis=1).nonzero()"
   ]
  },
  {
   "cell_type": "code",
   "execution_count": 34,
   "metadata": {},
   "outputs": [
    {
     "data": {
      "text/plain": [
       "1"
      ]
     },
     "execution_count": 34,
     "metadata": {},
     "output_type": "execute_result"
    }
   ],
   "source": [
    "mask[0].item()"
   ]
  },
  {
   "cell_type": "code",
   "execution_count": 27,
   "metadata": {},
   "outputs": [
    {
     "ename": "TypeError",
     "evalue": "bad operand type for unary ~: 'tuple'",
     "output_type": "error",
     "traceback": [
      "\u001b[0;31m---------------------------------------------------------------------------\u001b[0m",
      "\u001b[0;31mTypeError\u001b[0m                                 Traceback (most recent call last)",
      "Cell \u001b[0;32mIn[27], line 1\u001b[0m\n\u001b[0;32m----> 1\u001b[0m labels[\u001b[39m~\u001b[39;49mmask]\n",
      "\u001b[0;31mTypeError\u001b[0m: bad operand type for unary ~: 'tuple'"
     ]
    }
   ],
   "source": [
    "labels[~mask]"
   ]
  },
  {
   "cell_type": "code",
   "execution_count": null,
   "metadata": {},
   "outputs": [],
   "source": [
    "x = np.array([1, 2, 3])\n",
    "np.asarray(x == 1).nonzero()"
   ]
  },
  {
   "cell_type": "code",
   "execution_count": null,
   "metadata": {},
   "outputs": [],
   "source": [
    "import pandas as pd\n",
    "import numpy as np\n",
    "\n",
    "# Create a sample dataframe\n",
    "data = {'col1': [1, 2, 3], 'col2': [4, 5, 6]}\n",
    "df = pd.DataFrame(data)\n",
    "print(df)\n",
    "desired_length = 5\n",
    "\n",
    "# Pad the dataframe with zeros\n",
    "df = df.reindex(range(desired_length), fill_value=0)\n",
    "\n",
    "print(df)"
   ]
  },
  {
   "cell_type": "code",
   "execution_count": null,
   "metadata": {},
   "outputs": [],
   "source": [
    "import pandas as pd\n",
    "import numpy as np\n",
    "\n",
    "# Create a sample dataframe\n",
    "data = {'col1': [1, 2, 3], 'col2': [4, 5, 6]}\n",
    "df = pd.DataFrame(data)\n",
    "\n",
    "desired_length = 5\n",
    "\n",
    "if len(df) < desired_length:\n",
    "    # Calculate the number of rows to pad\n",
    "    num_rows_to_pad = desired_length - len(df)\n",
    "    \n",
    "    # Create a dataframe with zeros\n",
    "    zeros_df = pd.DataFrame(0, index=range(num_rows_to_pad), columns=df.columns)\n",
    "    \n",
    "    # Append the zeros dataframe to the original dataframe\n",
    "    df = df.append(zeros_df, ignore_index=True)\n",
    "print(df)"
   ]
  },
  {
   "cell_type": "code",
   "execution_count": null,
   "metadata": {},
   "outputs": [],
   "source": []
  }
 ],
 "metadata": {
  "kernelspec": {
   "display_name": "pytorch",
   "language": "python",
   "name": "python3"
  },
  "language_info": {
   "codemirror_mode": {
    "name": "ipython",
    "version": 3
   },
   "file_extension": ".py",
   "mimetype": "text/x-python",
   "name": "python",
   "nbconvert_exporter": "python",
   "pygments_lexer": "ipython3",
   "version": "3.10.11"
  },
  "orig_nbformat": 4
 },
 "nbformat": 4,
 "nbformat_minor": 2
}
